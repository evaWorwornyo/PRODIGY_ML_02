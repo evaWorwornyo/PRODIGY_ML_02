{
  "cells": [
    {
      "cell_type": "code",
      "execution_count": null,
      "metadata": {
        "colab": {
          "background_save": true,
          "base_uri": "https://localhost:8080/",
          "height": 676
        },
        "id": "jz4cKaIiLkBd",
        "outputId": "020d21ff-30de-499f-b591-3dc931674951"
      },
      "outputs": [],
      "source": [
        "import pandas as pd\n",
        "from sklearn.cluster import KMeans\n",
        "import matplotlib.pyplot as plt\n",
        "import seaborn as sns\n",
        "\n",
        "\n",
        "\n",
        "data = pd.read_csv('/content/Mall_Customers.csv')\n",
        "\n",
        "features = data[['Age', 'Annual Income (k$)', 'Spending Score (1-100)']]\n",
        "\n",
        "k = 5\n",
        "kmeans = KMeans(n_clusters=k, random_state=0)\n",
        "data['Cluster'] = kmeans.fit_predict(features)\n",
        "\n",
        "\n",
        "plt.figure(figsize=(10, 7))\n",
        "sns.scatterplot(\n",
        "    x='Annual Income (k$)', y='Spending Score (1-100)',\n",
        "    hue='Cluster', data=data, palette='viridis', style='Cluster', s=100\n",
        ")\n",
        "plt.scatter(\n",
        "    kmeans.cluster_centers_[:, 1], kmeans.cluster_centers_[:, 2],\n",
        "    s=300, c='red', label='Centroids', marker='X'\n",
        ")\n",
        "plt.title(f'Customer Segments (k={k})')\n",
        "plt.xlabel('Annual Income (k$)')\n",
        "plt.ylabel('Spending Score (1-100)')\n",
        "plt.legend()\n",
        "plt.show()\n",
        "\n",
        "def get_user_input(prompt, value_type=float):\n",
        "    while True:\n",
        "        try:\n",
        "            return value_type(input(prompt))\n",
        "        except ValueError:\n",
        "            print(\"Invalid input. Please enter a valid number.\")\n",
        "print(\"\\nEnter details of a new customer:\")\n",
        "age = get_user_input(\"Age: \")\n",
        "annual_income = get_user_input(\"Annual Income (k$): \")\n",
        "spending_score = get_user_input(\"Spending Score (1-100): \")\n",
        "new_data = [[age, annual_income, spending_score]]\n",
        "predicted_cluster = kmeans.predict(new_data)\n",
        "\n",
        "print(f\"\\nThe new customer belongs to Cluster {predicted_cluster[0]}.\")\n"
      ]
    },
    {
      "cell_type": "code",
      "execution_count": null,
      "metadata": {
        "id": "qYx_Zzl1OYSU"
      },
      "outputs": [],
      "source": []
    }
  ],
  "metadata": {
    "colab": {
      "provenance": []
    },
    "kernelspec": {
      "display_name": "Python 3",
      "name": "python3"
    },
    "language_info": {
      "name": "python"
    }
  },
  "nbformat": 4,
  "nbformat_minor": 0
}
